{
 "cells": [
  {
   "cell_type": "code",
   "execution_count": 1,
   "id": "162dc634-a8ae-401a-8e0d-5379f5395142",
   "metadata": {
    "tags": []
   },
   "outputs": [],
   "source": [
    "import numpy as np\n",
    "import matplotlib.pyplot as plt\n",
    "import pandas as pd\n",
    "from sklearn import preprocessing\n"
   ]
  },
  {
   "cell_type": "code",
   "execution_count": 2,
   "id": "ba628deb-4e09-4866-9db2-535920c99b1b",
   "metadata": {
    "tags": []
   },
   "outputs": [
    {
     "data": {
      "text/html": [
       "<div>\n",
       "<style scoped>\n",
       "    .dataframe tbody tr th:only-of-type {\n",
       "        vertical-align: middle;\n",
       "    }\n",
       "\n",
       "    .dataframe tbody tr th {\n",
       "        vertical-align: top;\n",
       "    }\n",
       "\n",
       "    .dataframe thead th {\n",
       "        text-align: right;\n",
       "    }\n",
       "</style>\n",
       "<table border=\"1\" class=\"dataframe\">\n",
       "  <thead>\n",
       "    <tr style=\"text-align: right;\">\n",
       "      <th></th>\n",
       "      <th>region</th>\n",
       "      <th>tenure</th>\n",
       "      <th>age</th>\n",
       "      <th>marital</th>\n",
       "      <th>address</th>\n",
       "      <th>income</th>\n",
       "      <th>ed</th>\n",
       "      <th>employ</th>\n",
       "      <th>retire</th>\n",
       "      <th>gender</th>\n",
       "      <th>reside</th>\n",
       "      <th>custcat</th>\n",
       "    </tr>\n",
       "  </thead>\n",
       "  <tbody>\n",
       "    <tr>\n",
       "      <th>0</th>\n",
       "      <td>2</td>\n",
       "      <td>13</td>\n",
       "      <td>44</td>\n",
       "      <td>1</td>\n",
       "      <td>9</td>\n",
       "      <td>64.0</td>\n",
       "      <td>4</td>\n",
       "      <td>5</td>\n",
       "      <td>0.0</td>\n",
       "      <td>0</td>\n",
       "      <td>2</td>\n",
       "      <td>1</td>\n",
       "    </tr>\n",
       "    <tr>\n",
       "      <th>1</th>\n",
       "      <td>3</td>\n",
       "      <td>11</td>\n",
       "      <td>33</td>\n",
       "      <td>1</td>\n",
       "      <td>7</td>\n",
       "      <td>136.0</td>\n",
       "      <td>5</td>\n",
       "      <td>5</td>\n",
       "      <td>0.0</td>\n",
       "      <td>0</td>\n",
       "      <td>6</td>\n",
       "      <td>4</td>\n",
       "    </tr>\n",
       "    <tr>\n",
       "      <th>2</th>\n",
       "      <td>3</td>\n",
       "      <td>68</td>\n",
       "      <td>52</td>\n",
       "      <td>1</td>\n",
       "      <td>24</td>\n",
       "      <td>116.0</td>\n",
       "      <td>1</td>\n",
       "      <td>29</td>\n",
       "      <td>0.0</td>\n",
       "      <td>1</td>\n",
       "      <td>2</td>\n",
       "      <td>3</td>\n",
       "    </tr>\n",
       "    <tr>\n",
       "      <th>3</th>\n",
       "      <td>2</td>\n",
       "      <td>33</td>\n",
       "      <td>33</td>\n",
       "      <td>0</td>\n",
       "      <td>12</td>\n",
       "      <td>33.0</td>\n",
       "      <td>2</td>\n",
       "      <td>0</td>\n",
       "      <td>0.0</td>\n",
       "      <td>1</td>\n",
       "      <td>1</td>\n",
       "      <td>1</td>\n",
       "    </tr>\n",
       "    <tr>\n",
       "      <th>4</th>\n",
       "      <td>2</td>\n",
       "      <td>23</td>\n",
       "      <td>30</td>\n",
       "      <td>1</td>\n",
       "      <td>9</td>\n",
       "      <td>30.0</td>\n",
       "      <td>1</td>\n",
       "      <td>2</td>\n",
       "      <td>0.0</td>\n",
       "      <td>0</td>\n",
       "      <td>4</td>\n",
       "      <td>3</td>\n",
       "    </tr>\n",
       "  </tbody>\n",
       "</table>\n",
       "</div>"
      ],
      "text/plain": [
       "   region  tenure  age  marital  address  income  ed  employ  retire  gender  \\\n",
       "0       2      13   44        1        9    64.0   4       5     0.0       0   \n",
       "1       3      11   33        1        7   136.0   5       5     0.0       0   \n",
       "2       3      68   52        1       24   116.0   1      29     0.0       1   \n",
       "3       2      33   33        0       12    33.0   2       0     0.0       1   \n",
       "4       2      23   30        1        9    30.0   1       2     0.0       0   \n",
       "\n",
       "   reside  custcat  \n",
       "0       2        1  \n",
       "1       6        4  \n",
       "2       2        3  \n",
       "3       1        1  \n",
       "4       4        3  "
      ]
     },
     "execution_count": 2,
     "metadata": {},
     "output_type": "execute_result"
    }
   ],
   "source": [
    "#Dataset\n",
    "url=\"https://cf-courses-data.s3.us.cloud-object-storage.appdomain.cloud/IBMDeveloperSkillsNetwork-ML0101EN-SkillsNetwork/labs/Module%203/data/teleCust1000t.csv\"\n",
    "df=pd.read_csv(url)\n",
    "df.head()"
   ]
  },
  {
   "cell_type": "code",
   "execution_count": 3,
   "id": "4a8d7a86-53db-4809-9f9b-294afdacc64c",
   "metadata": {
    "tags": []
   },
   "outputs": [],
   "source": [
    "Cat_objetivos=df['custcat'].value_counts() # Contar elementos por clase objetivo"
   ]
  },
  {
   "cell_type": "code",
   "execution_count": 4,
   "id": "bc2abc2f-9120-414d-b7e0-bc4ab6e142ae",
   "metadata": {
    "tags": []
   },
   "outputs": [
    {
     "data": {
      "text/plain": [
       "array([[<Axes: title={'center': 'region'}>,\n",
       "        <Axes: title={'center': 'tenure'}>,\n",
       "        <Axes: title={'center': 'age'}>],\n",
       "       [<Axes: title={'center': 'marital'}>,\n",
       "        <Axes: title={'center': 'address'}>,\n",
       "        <Axes: title={'center': 'income'}>],\n",
       "       [<Axes: title={'center': 'ed'}>,\n",
       "        <Axes: title={'center': 'employ'}>,\n",
       "        <Axes: title={'center': 'retire'}>],\n",
       "       [<Axes: title={'center': 'gender'}>,\n",
       "        <Axes: title={'center': 'reside'}>,\n",
       "        <Axes: title={'center': 'custcat'}>]], dtype=object)"
      ]
     },
     "execution_count": 4,
     "metadata": {},
     "output_type": "execute_result"
    },
    {
     "data": {
      "image/png": "[encoded data removed]",
      "text/plain": [
       "<Figure size 640x480 with 12 Axes>"
      ]
     },
     "metadata": {},
     "output_type": "display_data"
    }
   ],
   "source": [
    "df.hist()#Visualización de histograma de datos"
   ]
  },
  {
   "cell_type": "code",
   "execution_count": 5,
   "id": "90ea167f-c05d-46b4-8a25-b25280cb28c6",
   "metadata": {
    "tags": []
   },
   "outputs": [
    {
     "name": "stdout",
     "output_type": "stream",
     "text": [
      "Shape of x=(800, 11) and shape of y=(800,)\n"
     ]
    }
   ],
   "source": [
    "#División de Dataset\n",
    "from sklearn.model_selection import train_test_split\n",
    "x=df[['region','tenure','age', 'marital', 'address', 'income', 'ed', 'employ','retire', 'gender', 'reside']].values\n",
    "y=df['custcat'].values\n",
    "train_x , test_x, train_y , test_y = train_test_split(x,y,test_size=0.2, random_state=4)\n",
    "a=train_x.shape\n",
    "b=train_y.shape\n",
    "\n",
    "print(f\"Shape of x={a} and shape of y={b}\")\n",
    "#Normalización de Datos\n",
    "train_x_norm= preprocessing.StandardScaler().fit(train_x).transform(train_x.astype(float))\n",
    "test_x_norm= preprocessing.StandardScaler().fit(test_x).transform(test_x.astype(float))"
   ]
  },
  {
   "cell_type": "code",
   "execution_count": 6,
   "id": "084473a7-050d-4527-9010-0610d27299cd",
   "metadata": {
    "tags": []
   },
   "outputs": [],
   "source": [
    "#Importación de modelo\n",
    "from sklearn.neighbors import KNeighborsClassifier\n",
    "#Elección de K\n",
    "k=4\n",
    "\n",
    "#Entrenamiento de modelo\n",
    "Model_KNN = KNeighborsClassifier(n_neighbors=k).fit(train_x_norm, train_y)\n",
    "\n",
    "#Predicción\n",
    "predict= Model_KNN.predict(test_x_norm)"
   ]
  },
  {
   "cell_type": "code",
   "execution_count": 7,
   "id": "1783e590-f886-4cc5-9699-2898cbb7cc4d",
   "metadata": {
    "tags": []
   },
   "outputs": [
    {
     "name": "stdout",
     "output_type": "stream",
     "text": [
      "Precisión del set de entrenamiento: 0.5475\n",
      "precisión del set de pruebas:  0.33\n"
     ]
    }
   ],
   "source": [
    "#Evaluación de desempeño\n",
    "from sklearn import metrics\n",
    "\n",
    "print(\"Precisión del set de entrenamiento:\", metrics.accuracy_score(train_y, Model_KNN.predict(train_x_norm)))\n",
    "print(\"precisión del set de pruebas: \", metrics.accuracy_score(test_y, predict))"
   ]
  },
  {
   "cell_type": "code",
   "execution_count": 8,
   "id": "9c9ac3fb-153d-4681-a152-a56c9ff72fa1",
   "metadata": {
    "tags": []
   },
   "outputs": [
    {
     "name": "stdout",
     "output_type": "stream",
     "text": [
      "Precisión del set de entrenamiento: 0.5125\n",
      "precisión del set de pruebas:  0.335\n"
     ]
    }
   ],
   "source": [
    "#Elección de K\n",
    "k=6\n",
    "\n",
    "#Entrenamiento de modelo\n",
    "Model_KNN = KNeighborsClassifier(n_neighbors=k).fit(train_x_norm, train_y)\n",
    "\n",
    "#Predicción\n",
    "predict= Model_KNN.predict(test_x_norm)\n",
    "\n",
    "print(\"Precisión del set de entrenamiento:\", metrics.accuracy_score(train_y, Model_KNN.predict(train_x_norm)))\n",
    "print(\"precisión del set de pruebas: \", metrics.accuracy_score(test_y, predict))"
   ]
  },
  {
   "cell_type": "code",
   "execution_count": 9,
   "id": "9bfd3ae3-04df-4a91-9e2f-d502ad03fea9",
   "metadata": {
    "tags": []
   },
   "outputs": [
    {
     "name": "stdout",
     "output_type": "stream",
     "text": [
      "Precisión del set de entrenamiento: 0.50875\n",
      "precisión del set de pruebas:  0.35\n"
     ]
    }
   ],
   "source": [
    "#Elección de K\n",
    "k=7\n",
    "\n",
    "#Entrenamiento de modelo\n",
    "Model_KNN = KNeighborsClassifier(n_neighbors=k).fit(train_x_norm, train_y)\n",
    "\n",
    "#Predicción\n",
    "predict= Model_KNN.predict(test_x_norm)\n",
    "\n",
    "print(\"Precisión del set de entrenamiento:\", metrics.accuracy_score(train_y, Model_KNN.predict(train_x_norm)))\n",
    "print(\"precisión del set de pruebas: \", metrics.accuracy_score(test_y, predict))"
   ]
  },
  {
   "cell_type": "code",
   "execution_count": 10,
   "id": "72dd4012-2875-482e-ae57-c220db21231a",
   "metadata": {
    "tags": []
   },
   "outputs": [
    {
     "name": "stdout",
     "output_type": "stream",
     "text": [
      "Precisión del set de entrenamiento: 0.4925\n",
      "precisión del set de pruebas:  0.34\n"
     ]
    }
   ],
   "source": [
    "#Elección de K\n",
    "k=8\n",
    "\n",
    "#Entrenamiento de modelo\n",
    "Model_KNN = KNeighborsClassifier(n_neighbors=k).fit(train_x_norm, train_y)\n",
    "\n",
    "#Predicción\n",
    "predict= Model_KNN.predict(test_x_norm)\n",
    "\n",
    "print(\"Precisión del set de entrenamiento:\", metrics.accuracy_score(train_y, Model_KNN.predict(train_x_norm)))\n",
    "print(\"precisión del set de pruebas: \", metrics.accuracy_score(test_y, predict))"
   ]
  },
  {
   "cell_type": "code",
   "execution_count": 11,
   "id": "4438747d-7933-4a94-a693-c143278d37ac",
   "metadata": {
    "tags": []
   },
   "outputs": [
    {
     "name": "stdout",
     "output_type": "stream",
     "text": [
      "El mejor desempeño se da para k=7, obteniendo un 35% de precisión en el set de pruebas\n"
     ]
    }
   ],
   "source": [
    "print(\"El mejor desempeño se da para k=7, obteniendo un 35% de precisión en el set de pruebas\")"
   ]
  },
  {
   "cell_type": "code",
   "execution_count": 13,
   "id": "01a44330-29bb-4507-9513-09ff1c44e5ce",
   "metadata": {},
   "outputs": [
    {
     "data": {
      "image/png": "[encoded data removed]",
      "text/plain": [
       "<Figure size 640x480 with 1 Axes>"
      ]
     },
     "metadata": {},
     "output_type": "display_data"
    }
   ],
   "source": [
    "Ks = 10\n",
    "mean_acc = np.zeros((Ks-1))\n",
    "std_acc = np.zeros((Ks-1))\n",
    "\n",
    "for n in range(1,Ks):\n",
    "    \n",
    "    #Entrenamiento de modelo\n",
    "    Model_KNN = KNeighborsClassifier(n_neighbors=n).fit(train_x_norm, train_y)\n",
    "\n",
    "    #Predicción\n",
    "    predict= Model_KNN.predict(test_x_norm)\n",
    "    \n",
    "    \n",
    "    mean_acc[n-1] = metrics.accuracy_score(test_y, predict)\n",
    "\n",
    "    \n",
    "    std_acc[n-1]=np.std(predict==test_y)/np.sqrt(predict.shape[0])\n",
    "\n",
    "mean_acc\n",
    "\n",
    "plt.plot(range(1,Ks),mean_acc,'g')\n",
    "plt.fill_between(range(1,Ks),mean_acc - 1 * std_acc,mean_acc + 1 * std_acc, alpha=0.10)\n",
    "plt.fill_between(range(1,Ks),mean_acc - 3 * std_acc,mean_acc + 3 * std_acc, alpha=0.10,color=\"green\")\n",
    "plt.legend(('Accuracy ', '+/- 1xstd','+/- 3xstd'))\n",
    "plt.ylabel('Accuracy ')\n",
    "plt.xlabel('Number of Neighbors (K)')\n",
    "plt.tight_layout()\n",
    "plt.show()"
   ]
  },
  {
   "cell_type": "code",
   "execution_count": null,
   "id": "1e71b6c7-b06b-4056-ad9e-f41456d5e2d6",
   "metadata": {},
   "outputs": [],
   "source": []
  }
 ],
 "metadata": {
  "kernelspec": {
   "display_name": "Python 3 (ipykernel)",
   "language": "python",
   "name": "python3"
  },
  "language_info": {
   "codemirror_mode": {
    "name": "ipython",
    "version": 3
   },
   "file_extension": ".py",
   "mimetype": "text/x-python",
   "name": "python",
   "nbconvert_exporter": "python",
   "pygments_lexer": "ipython3",
   "version": "3.11.4"
  }
 },
 "nbformat": 4,
 "nbformat_minor": 5
}
